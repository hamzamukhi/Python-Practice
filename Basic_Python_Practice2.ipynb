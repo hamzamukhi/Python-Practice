{
  "nbformat": 4,
  "nbformat_minor": 0,
  "metadata": {
    "colab": {
      "name": "Basic_Python_Practice2.ipynb",
      "provenance": [],
      "authorship_tag": "ABX9TyN96rTbR3VLGa7oHU3RF0Mi"
    },
    "kernelspec": {
      "name": "python3",
      "display_name": "Python 3"
    }
  },
  "cells": [
    {
      "cell_type": "markdown",
      "metadata": {
        "id": "pQTdBi2IRucM"
      },
      "source": [
        "\r\n",
        "\r\n",
        "*    Functions(Definition) and Lambda Functions\r\n",
        "*   List(Data Structure) \r\n",
        "\r\n",
        "\r\n"
      ]
    },
    {
      "cell_type": "markdown",
      "metadata": {
        "id": "rTY5VzQESOqC"
      },
      "source": [
        "#Return the sentence by converting it into the uppercase"
      ]
    },
    {
      "cell_type": "code",
      "metadata": {
        "id": "IgJjQTmSRoKH"
      },
      "source": [
        "def to_upper(sent):\r\n",
        "    if type(sent) == str: #Python 3.x or 2.7.6 ...\r\n",
        "        return sent.upper()"
      ],
      "execution_count": null,
      "outputs": []
    },
    {
      "cell_type": "code",
      "metadata": {
        "colab": {
          "base_uri": "https://localhost:8080/"
        },
        "id": "nLuzrqNiSSZr",
        "outputId": "34dc83cc-caec-4e89-b176-f6207377f77f"
      },
      "source": [
        "text = 'Hi, I am Hamza. And I am doing good.'\r\n",
        "print(type(text))\r\n",
        "\r\n",
        "u_text = to_upper(text)\r\n",
        "print(u_text)"
      ],
      "execution_count": null,
      "outputs": [
        {
          "output_type": "stream",
          "text": [
            "<class 'str'>\n",
            "HI, I AM HAMZA. AND I AM DOING GOOD.\n"
          ],
          "name": "stdout"
        }
      ]
    },
    {
      "cell_type": "markdown",
      "metadata": {
        "id": "VdE5xKinSbOc"
      },
      "source": [
        "# Count the number of vowels in the given sentence."
      ]
    },
    {
      "cell_type": "code",
      "metadata": {
        "id": "IUghg_11SXGh"
      },
      "source": [
        "def count_vowels(sent):\r\n",
        "    count = 0\r\n",
        "    if type(sent) == str:\r\n",
        "        for i in sent:\r\n",
        "            if i == 'a' or i == 'e' or i == 'i' or i == 'o' or i == 'u':\r\n",
        "                count += 1\r\n",
        "    return count\r\n"
      ],
      "execution_count": null,
      "outputs": []
    },
    {
      "cell_type": "code",
      "metadata": {
        "colab": {
          "base_uri": "https://localhost:8080/"
        },
        "id": "xPnco3mcSfZn",
        "outputId": "933069ea-65a0-4450-b94b-cca8d7a2efb2"
      },
      "source": [
        "count_vowels('Hi, I am Hamza Aziz. And I am doing good.')"
      ],
      "execution_count": null,
      "outputs": [
        {
          "output_type": "execute_result",
          "data": {
            "text/plain": [
              "10"
            ]
          },
          "metadata": {
            "tags": []
          },
          "execution_count": 4
        }
      ]
    },
    {
      "cell_type": "code",
      "metadata": {
        "colab": {
          "base_uri": "https://localhost:8080/"
        },
        "id": "ne4V3ltGSjdR",
        "outputId": "716d9454-2d48-4e03-dd8a-a30ac0342a44"
      },
      "source": [
        "s = 'text'\r\n",
        "print(s.upper())\r\n",
        "s = s.upper()\r\n",
        "print(s)\r\n",
        "print(s)"
      ],
      "execution_count": null,
      "outputs": [
        {
          "output_type": "stream",
          "text": [
            "TEXT\n",
            "TEXT\n",
            "TEXT\n"
          ],
          "name": "stdout"
        }
      ]
    },
    {
      "cell_type": "markdown",
      "metadata": {
        "id": "LD8_7vjoSquK"
      },
      "source": [
        "# Write a definition to count the number of words in the sentence."
      ]
    },
    {
      "cell_type": "code",
      "metadata": {
        "id": "ZznpFGtHSmML"
      },
      "source": [
        "def count_words(sent):\r\n",
        "    print(sent)\r\n",
        "    count = 0\r\n",
        "    if type(sent) == str:\r\n",
        "        for i in sent:\r\n",
        "            if i == ' ' or i == ',' or i == '.' or i == '?':\r\n",
        "                count += 1\r\n",
        "        count += 1\r\n",
        "    return count"
      ],
      "execution_count": null,
      "outputs": []
    },
    {
      "cell_type": "code",
      "metadata": {
        "colab": {
          "base_uri": "https://localhost:8080/"
        },
        "id": "YKl77V9qSvqt",
        "outputId": "e584f6b0-427f-4cda-ca42-aba6dcaf7009"
      },
      "source": [
        "print(count_words('Hi, I am Hamza Aziz. And I am doing good.'))\r\n",
        "a = count_words('I don\\'t know') #escaping special characters"
      ],
      "execution_count": null,
      "outputs": [
        {
          "output_type": "stream",
          "text": [
            "Hi, I am Hamza Aziz. And I am doing good.\n",
            "13\n",
            "I don't know\n"
          ],
          "name": "stdout"
        }
      ]
    },
    {
      "cell_type": "markdown",
      "metadata": {
        "id": "ip5rp-E3S4MS"
      },
      "source": [
        "A lambda function is a small anonymous function.\r\n",
        "\r\n",
        "A lambda function can take any number of arguments, but can only have one expression.\r\n",
        "\r\n",
        "lambda arguments : expression"
      ]
    },
    {
      "cell_type": "code",
      "metadata": {
        "colab": {
          "base_uri": "https://localhost:8080/"
        },
        "id": "CmlfBEz2S03V",
        "outputId": "8a8d9b19-3165-4b94-f334-db4abdcfee2e"
      },
      "source": [
        "#Add 10 to argument a, and return the result:\r\n",
        "x = lambda a : a + 10\r\n",
        "print(x(5))"
      ],
      "execution_count": null,
      "outputs": [
        {
          "output_type": "stream",
          "text": [
            "15\n"
          ],
          "name": "stdout"
        }
      ]
    },
    {
      "cell_type": "markdown",
      "metadata": {
        "id": "EkKchEaGS-bU"
      },
      "source": [
        "Lambda functions can take any number of arguments:"
      ]
    },
    {
      "cell_type": "code",
      "metadata": {
        "colab": {
          "base_uri": "https://localhost:8080/"
        },
        "id": "0W2jOfMNS7eb",
        "outputId": "a10b2865-490b-44fe-ba26-2e5919727af7"
      },
      "source": [
        "#Multiply argument a with argument b and return the result:\r\n",
        "\r\n",
        "x = lambda a, b : a * b\r\n",
        "print(x(5, 6))"
      ],
      "execution_count": null,
      "outputs": [
        {
          "output_type": "stream",
          "text": [
            "30\n"
          ],
          "name": "stdout"
        }
      ]
    },
    {
      "cell_type": "code",
      "metadata": {
        "colab": {
          "base_uri": "https://localhost:8080/"
        },
        "id": "MW3Qs3kcTBsj",
        "outputId": "c598da0b-c2bf-4280-abd4-e9df80c585a8"
      },
      "source": [
        "#Summarize argument a, b, and c and return the result:\r\n",
        "\r\n",
        "x = lambda a, b, c : a + b + c\r\n",
        "print(x(5, 6, 2))"
      ],
      "execution_count": null,
      "outputs": [
        {
          "output_type": "stream",
          "text": [
            "13\n"
          ],
          "name": "stdout"
        }
      ]
    },
    {
      "cell_type": "markdown",
      "metadata": {
        "id": "Ft7qxcaPTGpu"
      },
      "source": [
        "The power of lambda is better shown when you use them as an anonymous function inside another function.\r\n",
        "\r\n",
        "Say you have a function definition that takes one argument, and that argument will be multiplied with an unknown number:\r\n"
      ]
    },
    {
      "cell_type": "code",
      "metadata": {
        "id": "VOSBYDDRTDk7"
      },
      "source": [
        "def myfunc(n):\r\n",
        "  return lambda a : a * n"
      ],
      "execution_count": null,
      "outputs": []
    },
    {
      "cell_type": "code",
      "metadata": {
        "colab": {
          "base_uri": "https://localhost:8080/"
        },
        "id": "ajezPTXHTNPh",
        "outputId": "30ced726-a348-4927-840a-9e63a3c82e5b"
      },
      "source": [
        "def myfunc(n):\r\n",
        "  return lambda a : a * n\r\n",
        "\r\n",
        "mydoubler = myfunc(2)\r\n",
        "\r\n",
        "print(mydoubler(11))"
      ],
      "execution_count": null,
      "outputs": [
        {
          "output_type": "stream",
          "text": [
            "22\n"
          ],
          "name": "stdout"
        }
      ]
    },
    {
      "cell_type": "markdown",
      "metadata": {
        "id": "xxI63TQ6TX0-"
      },
      "source": [
        "# `in` keyword"
      ]
    },
    {
      "cell_type": "code",
      "metadata": {
        "colab": {
          "base_uri": "https://localhost:8080/"
        },
        "id": "9L39vIriTO5V",
        "outputId": "fd18c5d2-45c4-49f2-b547-c8a294afff90"
      },
      "source": [
        "name = 'Applied Programming BE'\r\n",
        "\r\n",
        "if 'BE' in name:\r\n",
        "    print(\"yes\")\r\n",
        "else:\r\n",
        "    print(\"no\")"
      ],
      "execution_count": null,
      "outputs": [
        {
          "output_type": "stream",
          "text": [
            "yes\n"
          ],
          "name": "stdout"
        }
      ]
    },
    {
      "cell_type": "markdown",
      "metadata": {
        "id": "tKQqyP2BTdPr"
      },
      "source": [
        "# ternary operator"
      ]
    },
    {
      "cell_type": "code",
      "metadata": {
        "colab": {
          "base_uri": "https://localhost:8080/"
        },
        "id": "bA1VOcS1Taxo",
        "outputId": "4fa7f483-7b39-413d-add8-3aa3376f60ab"
      },
      "source": [
        "colors = ['red', 'yellow', 'green', 'black', 'white']\r\n",
        "print('yes' if 'purple' in colors else 'no')"
      ],
      "execution_count": null,
      "outputs": [
        {
          "output_type": "stream",
          "text": [
            "no\n"
          ],
          "name": "stdout"
        }
      ]
    },
    {
      "cell_type": "markdown",
      "metadata": {
        "id": "0DBBskbsTkYe"
      },
      "source": [
        "# Define a function which confirms a substring is presnet in a given string or not?"
      ]
    },
    {
      "cell_type": "code",
      "metadata": {
        "id": "TIqW71mfTgpl"
      },
      "source": [
        "def has_substring(string,sub_string):\r\n",
        "    return True if sub_string in string else False"
      ],
      "execution_count": null,
      "outputs": []
    },
    {
      "cell_type": "code",
      "metadata": {
        "colab": {
          "base_uri": "https://localhost:8080/"
        },
        "id": "3yXlOkZwTp96",
        "outputId": "a4f072c5-abf2-4e93-8d54-c6bc51ea9f69"
      },
      "source": [
        "print(has_substring('Applied Programming', 'ied'))\r\n",
        "print(has_substring('Programming', 'Applied'))"
      ],
      "execution_count": null,
      "outputs": [
        {
          "output_type": "stream",
          "text": [
            "True\n",
            "False\n"
          ],
          "name": "stdout"
        }
      ]
    },
    {
      "cell_type": "markdown",
      "metadata": {
        "id": "opJ1LpE-T7bo"
      },
      "source": [
        "# Take three inputs from the user:\r\n",
        " - number (of which you have to print the table)\r\n",
        " - starting point\r\n",
        " - ending point\r\n",
        "\r\n",
        "# Write a definition that prints the table of given number from starting point to the end"
      ]
    },
    {
      "cell_type": "code",
      "metadata": {
        "colab": {
          "base_uri": "https://localhost:8080/"
        },
        "id": "PEUW-sDUTriX",
        "outputId": "d1d4de8f-4263-4162-839f-2c175fa90bc7"
      },
      "source": [
        "n = int(input(\"Enter any number: \"))\r\n",
        "s = int(input(\"Enter the starting point: \"))\r\n",
        "e = int(input(\"Enter the ending point: \"))"
      ],
      "execution_count": null,
      "outputs": [
        {
          "output_type": "stream",
          "text": [
            "Enter any number: 25\n",
            "Enter the starting point: 1\n",
            "Enter the ending point: 25\n"
          ],
          "name": "stdout"
        }
      ]
    },
    {
      "cell_type": "code",
      "metadata": {
        "id": "k4DfHR0fT_RE"
      },
      "source": [
        "def print_table(number = 1, start = 1, end = 10):\r\n",
        "    for i in range(start, end+1):\r\n",
        "        print(number, \" * \", i, \" = \", (number*i))"
      ],
      "execution_count": null,
      "outputs": []
    },
    {
      "cell_type": "code",
      "metadata": {
        "colab": {
          "base_uri": "https://localhost:8080/"
        },
        "id": "sl6Y7g9FUEDc",
        "outputId": "2947f408-b623-441f-facb-41169a228a86"
      },
      "source": [
        "print_table(n, s, e)"
      ],
      "execution_count": null,
      "outputs": [
        {
          "output_type": "stream",
          "text": [
            "25  *  1  =  25\n",
            "25  *  2  =  50\n",
            "25  *  3  =  75\n",
            "25  *  4  =  100\n",
            "25  *  5  =  125\n",
            "25  *  6  =  150\n",
            "25  *  7  =  175\n",
            "25  *  8  =  200\n",
            "25  *  9  =  225\n",
            "25  *  10  =  250\n",
            "25  *  11  =  275\n",
            "25  *  12  =  300\n",
            "25  *  13  =  325\n",
            "25  *  14  =  350\n",
            "25  *  15  =  375\n",
            "25  *  16  =  400\n",
            "25  *  17  =  425\n",
            "25  *  18  =  450\n",
            "25  *  19  =  475\n",
            "25  *  20  =  500\n",
            "25  *  21  =  525\n",
            "25  *  22  =  550\n",
            "25  *  23  =  575\n",
            "25  *  24  =  600\n",
            "25  *  25  =  625\n"
          ],
          "name": "stdout"
        }
      ]
    },
    {
      "cell_type": "code",
      "metadata": {
        "colab": {
          "base_uri": "https://localhost:8080/"
        },
        "id": "UpKZnFepUGxm",
        "outputId": "b1e7ae52-342a-401a-eaf5-c6233320f7a8"
      },
      "source": [
        "print_table( )"
      ],
      "execution_count": null,
      "outputs": [
        {
          "output_type": "stream",
          "text": [
            "1  *  1  =  1\n",
            "1  *  2  =  2\n",
            "1  *  3  =  3\n",
            "1  *  4  =  4\n",
            "1  *  5  =  5\n",
            "1  *  6  =  6\n",
            "1  *  7  =  7\n",
            "1  *  8  =  8\n",
            "1  *  9  =  9\n",
            "1  *  10  =  10\n"
          ],
          "name": "stdout"
        }
      ]
    },
    {
      "cell_type": "code",
      "metadata": {
        "colab": {
          "base_uri": "https://localhost:8080/"
        },
        "id": "drPjFCm_ULaB",
        "outputId": "4222ab82-68ac-44fe-d803-6b2de99f1d96"
      },
      "source": [
        "print_table(3)"
      ],
      "execution_count": null,
      "outputs": [
        {
          "output_type": "stream",
          "text": [
            "3  *  1  =  3\n",
            "3  *  2  =  6\n",
            "3  *  3  =  9\n",
            "3  *  4  =  12\n",
            "3  *  5  =  15\n",
            "3  *  6  =  18\n",
            "3  *  7  =  21\n",
            "3  *  8  =  24\n",
            "3  *  9  =  27\n",
            "3  *  10  =  30\n"
          ],
          "name": "stdout"
        }
      ]
    },
    {
      "cell_type": "code",
      "metadata": {
        "colab": {
          "base_uri": "https://localhost:8080/"
        },
        "id": "ch6rmjgqUMA-",
        "outputId": "e0f89cfc-ce53-4afe-ed49-74ba78648de8"
      },
      "source": [
        "print_table(end=18, number=2, start=5)"
      ],
      "execution_count": null,
      "outputs": [
        {
          "output_type": "stream",
          "text": [
            "2  *  5  =  10\n",
            "2  *  6  =  12\n",
            "2  *  7  =  14\n",
            "2  *  8  =  16\n",
            "2  *  9  =  18\n",
            "2  *  10  =  20\n",
            "2  *  11  =  22\n",
            "2  *  12  =  24\n",
            "2  *  13  =  26\n",
            "2  *  14  =  28\n",
            "2  *  15  =  30\n",
            "2  *  16  =  32\n",
            "2  *  17  =  34\n",
            "2  *  18  =  36\n"
          ],
          "name": "stdout"
        }
      ]
    },
    {
      "cell_type": "markdown",
      "metadata": {
        "id": "u5oFpX0qUTIL"
      },
      "source": [
        "# LIST\r\n",
        "Lists are used to store multiple items in a single variable.\r\n",
        "\r\n",
        "Lists are one of 4 built-in data types in Python used to store collections of data, the other 3 are Tuple, Set, and Dictionary, all with different qualities and usage.\r\n",
        "\r\n",
        "Lists are created using square brackets:"
      ]
    },
    {
      "cell_type": "code",
      "metadata": {
        "colab": {
          "base_uri": "https://localhost:8080/"
        },
        "id": "tbef9LvMUPt9",
        "outputId": "bf00db9c-c782-40e8-8507-a4af4bc92a7d"
      },
      "source": [
        "#Create a List:\r\n",
        "thislist = [\"apple\", \"banana\", \"cherry\"]\r\n",
        "print(thislist)"
      ],
      "execution_count": null,
      "outputs": [
        {
          "output_type": "stream",
          "text": [
            "['apple', 'banana', 'cherry']\n"
          ],
          "name": "stdout"
        }
      ]
    },
    {
      "cell_type": "markdown",
      "metadata": {
        "id": "d97f1JhuUYR8"
      },
      "source": [
        "List Items\r\n",
        "List items are ordered, changeable, and allow duplicate values.\r\n",
        "List items are indexed, the first item has index [0], the second item has index [1] etc."
      ]
    },
    {
      "cell_type": "code",
      "metadata": {
        "colab": {
          "base_uri": "https://localhost:8080/"
        },
        "id": "WZjho-VwUWTJ",
        "outputId": "ad790469-cf94-482a-dbd7-b20ff188f67e"
      },
      "source": [
        "#Example Lists allow duplicate values:\r\n",
        "\r\n",
        "thislist = [\"apple\", \"banana\", \"cherry\", \"apple\", \"cherry\"]\r\n",
        "print(thislist)"
      ],
      "execution_count": null,
      "outputs": [
        {
          "output_type": "stream",
          "text": [
            "['apple', 'banana', 'cherry', 'apple', 'cherry']\n"
          ],
          "name": "stdout"
        }
      ]
    },
    {
      "cell_type": "markdown",
      "metadata": {
        "id": "qrR-SPVDUeKF"
      },
      "source": [
        "Length:\r\n",
        "len()\r\n",
        "To determine how many items a list has, use the len() function:\r\n",
        "Type:\r\n",
        "type()\r\n",
        "From Python's perspective, lists are defined as objects with the data type 'list':"
      ]
    },
    {
      "cell_type": "markdown",
      "metadata": {
        "id": "L-bNrVMNUj8Q"
      },
      "source": [
        "Python Collections (Arrays)\r\n",
        "There are four collection data types in the Python programming language:\r\n",
        "\r\n",
        "List is a collection which is ordered and changeable. Allows duplicate members.\r\n",
        "Tuple is a collection which is ordered and unchangeable. Allows duplicate members.\r\n",
        "Set is a collection which is unordered and unindexed. No duplicate members.\r\n",
        "Dictionary is a collection which is unordered and changeable. No duplicate members.\r\n",
        "When choosing a collection type, it is useful to understand the properties of that type. Choosing the right type for a particular data set could mean retention of meaning, and, it could mean an increase in efficiency or security."
      ]
    },
    {
      "cell_type": "code",
      "metadata": {
        "colab": {
          "base_uri": "https://localhost:8080/"
        },
        "id": "-SndFiobUbXH",
        "outputId": "57b72a76-1154-4c4f-e55d-e6107b76473e"
      },
      "source": [
        "number = [ ]\r\n",
        "print(number)\r\n",
        "print(type(number))\r\n",
        "print(len(number))"
      ],
      "execution_count": null,
      "outputs": [
        {
          "output_type": "stream",
          "text": [
            "[]\n",
            "<class 'list'>\n",
            "0\n"
          ],
          "name": "stdout"
        }
      ]
    },
    {
      "cell_type": "code",
      "metadata": {
        "colab": {
          "base_uri": "https://localhost:8080/"
        },
        "id": "tBL4mx-XUo67",
        "outputId": "0d549762-0800-4791-9146-f7e17ffbb626"
      },
      "source": [
        "number = [1,2,4,-3,5,4,6,8,9,0,-3, \"one\", \"khan\", 23.5]\r\n",
        "print(len(number))"
      ],
      "execution_count": null,
      "outputs": [
        {
          "output_type": "stream",
          "text": [
            "14\n"
          ],
          "name": "stdout"
        }
      ]
    },
    {
      "cell_type": "code",
      "metadata": {
        "colab": {
          "base_uri": "https://localhost:8080/"
        },
        "id": "cBpBt53VUriL",
        "outputId": "e6b7012d-d9d9-438c-9a6d-4d26f23b3932"
      },
      "source": [
        "for i in number:\r\n",
        "    print(i)"
      ],
      "execution_count": null,
      "outputs": [
        {
          "output_type": "stream",
          "text": [
            "1\n",
            "2\n",
            "4\n",
            "-3\n",
            "5\n",
            "4\n",
            "6\n",
            "8\n",
            "9\n",
            "0\n",
            "-3\n",
            "one\n",
            "khan\n",
            "23.5\n"
          ],
          "name": "stdout"
        }
      ]
    },
    {
      "cell_type": "code",
      "metadata": {
        "colab": {
          "base_uri": "https://localhost:8080/"
        },
        "id": "S4s9UkfoUtNh",
        "outputId": "70d7a774-bdac-4766-c9b0-8d72e523287b"
      },
      "source": [
        "print(number)"
      ],
      "execution_count": null,
      "outputs": [
        {
          "output_type": "stream",
          "text": [
            "[1, 2, 4, -3, 5, 4, 6, 8, 9, 0, -3, 'one', 'khan', 23.5]\n"
          ],
          "name": "stdout"
        }
      ]
    },
    {
      "cell_type": "markdown",
      "metadata": {
        "id": "Ffa-jdgoUzO3"
      },
      "source": [
        "# append, insert, remove"
      ]
    },
    {
      "cell_type": "code",
      "metadata": {
        "id": "NwDvqSjMUxRS"
      },
      "source": [
        "number.append(90.3)"
      ],
      "execution_count": null,
      "outputs": []
    },
    {
      "cell_type": "code",
      "metadata": {
        "colab": {
          "base_uri": "https://localhost:8080/"
        },
        "id": "VNA3f2XKU3WJ",
        "outputId": "e0c111cd-a1bd-4c14-f2e2-9464458382be"
      },
      "source": [
        "print(number)"
      ],
      "execution_count": null,
      "outputs": [
        {
          "output_type": "stream",
          "text": [
            "[1, 2, 4, -3, 5, 4, 6, 8, 9, 0, -3, 'one', 'khan', 23.5, 90.3]\n"
          ],
          "name": "stdout"
        }
      ]
    },
    {
      "cell_type": "code",
      "metadata": {
        "id": "wM6HuaWGU49J"
      },
      "source": [
        "number.insert(2,89)"
      ],
      "execution_count": null,
      "outputs": []
    },
    {
      "cell_type": "code",
      "metadata": {
        "colab": {
          "base_uri": "https://localhost:8080/"
        },
        "id": "fMehzR3-U61U",
        "outputId": "356bd1f6-a15f-4e1e-e4cb-c18e2d066feb"
      },
      "source": [
        "print(number)"
      ],
      "execution_count": null,
      "outputs": [
        {
          "output_type": "stream",
          "text": [
            "[1, 2, 89, 4, -3, 5, 4, 6, 8, 9, 0, -3, 'one', 'khan', 23.5, 90.3]\n"
          ],
          "name": "stdout"
        }
      ]
    },
    {
      "cell_type": "code",
      "metadata": {
        "id": "1BYjYddbU8XG"
      },
      "source": [
        "number.remove(-3)"
      ],
      "execution_count": null,
      "outputs": []
    },
    {
      "cell_type": "code",
      "metadata": {
        "colab": {
          "base_uri": "https://localhost:8080/"
        },
        "id": "9njx0n_nU-gR",
        "outputId": "a1f11ce0-42e5-4a91-a0a6-06dc4d81903b"
      },
      "source": [
        "print(number)"
      ],
      "execution_count": null,
      "outputs": [
        {
          "output_type": "stream",
          "text": [
            "[1, 2, 89, 4, 5, 4, 6, 8, 9, 0, -3, 'one', 'khan', 23.5, 90.3]\n"
          ],
          "name": "stdout"
        }
      ]
    },
    {
      "cell_type": "code",
      "metadata": {
        "id": "Za4d9ioIU_4C"
      },
      "source": [
        "number.insert(0, 23)"
      ],
      "execution_count": null,
      "outputs": []
    },
    {
      "cell_type": "code",
      "metadata": {
        "colab": {
          "base_uri": "https://localhost:8080/"
        },
        "id": "_-rMtVD5VBWI",
        "outputId": "b2a0e15b-bf52-40f6-ccf9-80252dd9538c"
      },
      "source": [
        "print(number)"
      ],
      "execution_count": null,
      "outputs": [
        {
          "output_type": "stream",
          "text": [
            "[23, 23, 1, 2, 89, 4, 5, 4, 6, 8, 9, 0, -3, 'one', 'khan', 23.5, 90.3]\n"
          ],
          "name": "stdout"
        }
      ]
    },
    {
      "cell_type": "markdown",
      "metadata": {
        "id": "MQ9J7zbkhP_8"
      },
      "source": [
        "# Accessing items in the list"
      ]
    },
    {
      "cell_type": "code",
      "metadata": {
        "colab": {
          "base_uri": "https://localhost:8080/"
        },
        "id": "t3CkQ8u8VETT",
        "outputId": "9c1a356e-64c9-4066-fc00-342ffa6eee7f"
      },
      "source": [
        "print(number[0])"
      ],
      "execution_count": null,
      "outputs": [
        {
          "output_type": "stream",
          "text": [
            "23\n"
          ],
          "name": "stdout"
        }
      ]
    },
    {
      "cell_type": "code",
      "metadata": {
        "colab": {
          "base_uri": "https://localhost:8080/"
        },
        "id": "yAxJxyrvhVTL",
        "outputId": "d63e08d9-c0cd-4877-bf72-84a53fc8e9bf"
      },
      "source": [
        "print(number[3])"
      ],
      "execution_count": null,
      "outputs": [
        {
          "output_type": "stream",
          "text": [
            "2\n"
          ],
          "name": "stdout"
        }
      ]
    },
    {
      "cell_type": "code",
      "metadata": {
        "colab": {
          "base_uri": "https://localhost:8080/"
        },
        "id": "3NoRLojphXAv",
        "outputId": "694971a0-deb4-42eb-862c-e44d29e22a8f"
      },
      "source": [
        "print(number[-1]) # negative indexing"
      ],
      "execution_count": null,
      "outputs": [
        {
          "output_type": "stream",
          "text": [
            "90.3\n"
          ],
          "name": "stdout"
        }
      ]
    },
    {
      "cell_type": "markdown",
      "metadata": {
        "id": "XlwQ8QgkhcRW"
      },
      "source": [
        "# Sub-Listing"
      ]
    },
    {
      "cell_type": "markdown",
      "metadata": {
        "id": "dJETk3vKhg1z"
      },
      "source": [
        "print(number[1 : 7]) # sub-listing"
      ]
    },
    {
      "cell_type": "code",
      "metadata": {
        "colab": {
          "base_uri": "https://localhost:8080/"
        },
        "id": "N2HwEgivhYeM",
        "outputId": "dd040a08-3b39-4866-9c40-06978afc5adc"
      },
      "source": [
        "print(number[6 :]) # sub-listing without mentioning end"
      ],
      "execution_count": null,
      "outputs": [
        {
          "output_type": "stream",
          "text": [
            "[5, 4, 6, 8, 9, 0, -3, 'one', 'khan', 23.5, 90.3]\n"
          ],
          "name": "stdout"
        }
      ]
    },
    {
      "cell_type": "code",
      "metadata": {
        "colab": {
          "base_uri": "https://localhost:8080/"
        },
        "id": "8LUpF4_YhkXJ",
        "outputId": "a50787e8-d672-4ad5-fa8f-da4ecec3ff34"
      },
      "source": [
        "print(number[ : 5])"
      ],
      "execution_count": null,
      "outputs": [
        {
          "output_type": "stream",
          "text": [
            "[23, 23, 1, 2, 89]\n"
          ],
          "name": "stdout"
        }
      ]
    },
    {
      "cell_type": "code",
      "metadata": {
        "colab": {
          "base_uri": "https://localhost:8080/"
        },
        "id": "Qz5_Fh1khl3Y",
        "outputId": "2cbbe242-371e-483e-c05e-2f13ae07fb29"
      },
      "source": [
        "print(number[ : ])"
      ],
      "execution_count": null,
      "outputs": [
        {
          "output_type": "stream",
          "text": [
            "[23, 23, 1, 2, 89, 4, 5, 4, 6, 8, 9, 0, -3, 'one', 'khan', 23.5, 90.3]\n"
          ],
          "name": "stdout"
        }
      ]
    },
    {
      "cell_type": "code",
      "metadata": {
        "colab": {
          "base_uri": "https://localhost:8080/"
        },
        "id": "FTmACHrqhnSQ",
        "outputId": "721bfe4e-7afe-48f7-dd64-b5cbe25017bd"
      },
      "source": [
        "print(number[-5 : -2])\r\n",
        "listb = number[-5 : -2]\r\n",
        "print(listb)"
      ],
      "execution_count": null,
      "outputs": [
        {
          "output_type": "stream",
          "text": [
            "[-3, 'one', 'khan']\n",
            "[-3, 'one', 'khan']\n"
          ],
          "name": "stdout"
        }
      ]
    },
    {
      "cell_type": "markdown",
      "metadata": {
        "id": "_YUcUrJphtJP"
      },
      "source": [
        "# Write a definition which takes a list of values in parameter, and retrun a sublist consisting of only numbers."
      ]
    },
    {
      "cell_type": "code",
      "metadata": {
        "colab": {
          "base_uri": "https://localhost:8080/"
        },
        "id": "10YHyQRWhpCw",
        "outputId": "19027a9d-b606-4908-c999-cfc886902bb5"
      },
      "source": [
        "data = [2,3,4,6,7,\"a\",\"2\",\"@34\",23.4,343.2,38.6]\r\n",
        "\r\n",
        "print(type(2))\r\n",
        "print(type(3.4))"
      ],
      "execution_count": null,
      "outputs": [
        {
          "output_type": "stream",
          "text": [
            "<class 'int'>\n",
            "<class 'float'>\n"
          ],
          "name": "stdout"
        }
      ]
    },
    {
      "cell_type": "code",
      "metadata": {
        "id": "Zkgrm6KShwid"
      },
      "source": [
        "def filter_numbers(data):\r\n",
        "    numbers = list()\r\n",
        "    for i in data:\r\n",
        "        if type(i) == int or type(i) == float:\r\n",
        "            numbers.append(i)\r\n",
        "    return numbers"
      ],
      "execution_count": null,
      "outputs": []
    },
    {
      "cell_type": "code",
      "metadata": {
        "id": "zj5PYSOohy02",
        "colab": {
          "base_uri": "https://localhost:8080/"
        },
        "outputId": "ca36c1b2-1629-443f-e812-3d61a0b419e9"
      },
      "source": [
        "result = filter_numbers(data)\r\n",
        "print(result)"
      ],
      "execution_count": null,
      "outputs": [
        {
          "output_type": "stream",
          "text": [
            "[2, 3, 4, 6, 7, 23.4, 343.2, 38.6]\n"
          ],
          "name": "stdout"
        }
      ]
    },
    {
      "cell_type": "code",
      "metadata": {
        "id": "uQARVslMh07F"
      },
      "source": [
        ""
      ],
      "execution_count": null,
      "outputs": []
    }
  ]
}