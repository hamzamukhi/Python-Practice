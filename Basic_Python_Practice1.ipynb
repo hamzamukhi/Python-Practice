{
  "nbformat": 4,
  "nbformat_minor": 0,
  "metadata": {
    "colab": {
      "name": "Basic_Python_Practice1.ipynb",
      "provenance": [],
      "authorship_tag": "ABX9TyOP/PIVocs3+MvcsZUdXrbg",
      "include_colab_link": true
    },
    "kernelspec": {
      "name": "python3",
      "display_name": "Python 3"
    }
  },
  "cells": [
    {
      "cell_type": "markdown",
      "metadata": {
        "id": "view-in-github",
        "colab_type": "text"
      },
      "source": [
        "<a href=\"https://colab.research.google.com/github/hamzamukhi/Python-Practice/blob/main/Basic_Python_Practice1.ipynb\" target=\"_parent\"><img src=\"https://colab.research.google.com/assets/colab-badge.svg\" alt=\"Open In Colab\"/></a>"
      ]
    },
    {
      "cell_type": "code",
      "metadata": {
        "colab": {
          "base_uri": "https://localhost:8080/"
        },
        "id": "b_XCG0BWNpSE",
        "outputId": "24ad6e90-c5ca-4e33-9a1e-25cf61388a74"
      },
      "source": [
        "print(\"Hello\")"
      ],
      "execution_count": 1,
      "outputs": [
        {
          "output_type": "stream",
          "text": [
            "Hello\n"
          ],
          "name": "stdout"
        }
      ]
    },
    {
      "cell_type": "code",
      "metadata": {
        "id": "7kLRw4XxNyWz"
      },
      "source": [
        "x = 2215"
      ],
      "execution_count": 2,
      "outputs": []
    },
    {
      "cell_type": "code",
      "metadata": {
        "colab": {
          "base_uri": "https://localhost:8080/"
        },
        "id": "-CA0x2MQNz_9",
        "outputId": "917b0499-9943-436d-8183-a5c435c99c68"
      },
      "source": [
        "print(x)"
      ],
      "execution_count": 3,
      "outputs": [
        {
          "output_type": "stream",
          "text": [
            "2215\n"
          ],
          "name": "stdout"
        }
      ]
    },
    {
      "cell_type": "code",
      "metadata": {
        "id": "u05rbMMvN1g_"
      },
      "source": [
        "y = 2021"
      ],
      "execution_count": 4,
      "outputs": []
    },
    {
      "cell_type": "code",
      "metadata": {
        "colab": {
          "base_uri": "https://localhost:8080/"
        },
        "id": "OXo-F-0HN3TH",
        "outputId": "cbfe7a24-0df0-4b42-85e5-6ca492ce58fd"
      },
      "source": [
        "print(y)"
      ],
      "execution_count": 5,
      "outputs": [
        {
          "output_type": "stream",
          "text": [
            "2021\n"
          ],
          "name": "stdout"
        }
      ]
    },
    {
      "cell_type": "markdown",
      "metadata": {
        "id": "OeBkGeSuN7YL"
      },
      "source": [
        "#**Variables**\r\n"
      ]
    },
    {
      "cell_type": "code",
      "metadata": {
        "id": "DW2RhWd_N49-"
      },
      "source": [
        "a = 12 #single comment #ctrl/\r\n",
        "b = 12.3\r\n",
        "c = True\r\n",
        "d = 'Hamza'\r\n",
        "d2 = \"Aziz\""
      ],
      "execution_count": 6,
      "outputs": []
    },
    {
      "cell_type": "code",
      "metadata": {
        "colab": {
          "base_uri": "https://localhost:8080/"
        },
        "id": "tALphYzzOGu-",
        "outputId": "4144bbfe-cb80-4965-fdcd-0d75a63a6f91"
      },
      "source": [
        "print(a,b,c,d)"
      ],
      "execution_count": 7,
      "outputs": [
        {
          "output_type": "stream",
          "text": [
            "12 12.3 True Hamza\n"
          ],
          "name": "stdout"
        }
      ]
    },
    {
      "cell_type": "code",
      "metadata": {
        "colab": {
          "base_uri": "https://localhost:8080/"
        },
        "id": "T1uG9DBHOJhC",
        "outputId": "05368458-375a-477b-b744-8b6d9ee5b6ab"
      },
      "source": [
        "print(\"fa17\", end=\"bscs\")\r\n",
        "print(\"0059\", end=\"@\")\r\n",
        "print(\"maju\",end=\".edu.pk\")"
      ],
      "execution_count": 8,
      "outputs": [
        {
          "output_type": "stream",
          "text": [
            "fa17bscs0059@maju.edu.pk"
          ],
          "name": "stdout"
        }
      ]
    },
    {
      "cell_type": "code",
      "metadata": {
        "colab": {
          "base_uri": "https://localhost:8080/"
        },
        "id": "lTZYQdp6OLLE",
        "outputId": "e1aab030-a699-439f-895c-a2ebf55dfb44"
      },
      "source": [
        "print(type(c))"
      ],
      "execution_count": 9,
      "outputs": [
        {
          "output_type": "stream",
          "text": [
            "<class 'bool'>\n"
          ],
          "name": "stdout"
        }
      ]
    },
    {
      "cell_type": "markdown",
      "metadata": {
        "id": "zC8AkAMmOjOW"
      },
      "source": [
        "#**Arithmetic Operators**"
      ]
    },
    {
      "cell_type": "code",
      "metadata": {
        "colab": {
          "base_uri": "https://localhost:8080/"
        },
        "id": "INpGN4jxOdOt",
        "outputId": "b7f5a93e-c73d-4769-88bc-2d883196aebd"
      },
      "source": [
        "a1 = a * 2\r\n",
        "print(a1)"
      ],
      "execution_count": 10,
      "outputs": [
        {
          "output_type": "stream",
          "text": [
            "24\n"
          ],
          "name": "stdout"
        }
      ]
    },
    {
      "cell_type": "code",
      "metadata": {
        "colab": {
          "base_uri": "https://localhost:8080/"
        },
        "id": "pAGJt1U1Oqjm",
        "outputId": "0b647ced-4040-45a7-9e40-2256fbf2e56a"
      },
      "source": [
        "a = 11\r\n",
        "b = 3\r\n",
        "a2 = a // b\r\n",
        "print(a2)"
      ],
      "execution_count": 11,
      "outputs": [
        {
          "output_type": "stream",
          "text": [
            "3\n"
          ],
          "name": "stdout"
        }
      ]
    },
    {
      "cell_type": "code",
      "metadata": {
        "colab": {
          "base_uri": "https://localhost:8080/"
        },
        "id": "h7p7wkGJOsKw",
        "outputId": "83058a27-b112-4138-de1b-0d5be8d29a27"
      },
      "source": [
        "a3 = a % b\r\n",
        "print(a3)\r\n"
      ],
      "execution_count": 12,
      "outputs": [
        {
          "output_type": "stream",
          "text": [
            "2\n"
          ],
          "name": "stdout"
        }
      ]
    },
    {
      "cell_type": "code",
      "metadata": {
        "colab": {
          "base_uri": "https://localhost:8080/"
        },
        "id": "4FITYgzoOwVx",
        "outputId": "f5343612-cc1d-403a-9177-b565a7a12b3c"
      },
      "source": [
        "p = 2 ** 3\r\n",
        "print(p)"
      ],
      "execution_count": 13,
      "outputs": [
        {
          "output_type": "stream",
          "text": [
            "8\n"
          ],
          "name": "stdout"
        }
      ]
    },
    {
      "cell_type": "code",
      "metadata": {
        "colab": {
          "base_uri": "https://localhost:8080/"
        },
        "id": "YoLs38szOw_b",
        "outputId": "441a1336-146a-4a56-cd40-30bc3f00fec4"
      },
      "source": [
        "a = 1\r\n",
        "b = 2\r\n",
        "\r\n",
        "b,a = a,b\r\n",
        "\r\n",
        "print(a)\r\n",
        "print(b)"
      ],
      "execution_count": 14,
      "outputs": [
        {
          "output_type": "stream",
          "text": [
            "2\n",
            "1\n"
          ],
          "name": "stdout"
        }
      ]
    },
    {
      "cell_type": "markdown",
      "metadata": {
        "id": "89wc_E-OO2bP"
      },
      "source": [
        "#**Logical Operators**"
      ]
    },
    {
      "cell_type": "code",
      "metadata": {
        "colab": {
          "base_uri": "https://localhost:8080/"
        },
        "id": "ZcIP1mvrOy97",
        "outputId": "e9edbd0c-3e32-47c3-ddb9-0266a84de19f"
      },
      "source": [
        "a = 12 \r\n",
        "b = 10\r\n",
        "c = a > b\r\n",
        "print(c)\r\n",
        "print(type(c))\r\n",
        "\r\n",
        "# > < == ! and (&&) or (||)"
      ],
      "execution_count": 15,
      "outputs": [
        {
          "output_type": "stream",
          "text": [
            "True\n",
            "<class 'bool'>\n"
          ],
          "name": "stdout"
        }
      ]
    },
    {
      "cell_type": "markdown",
      "metadata": {
        "id": "AmXCXv_gPAvu"
      },
      "source": [
        "I want to print \"Hamza\" if 'a' is greater than 'b'; otherwise \"Aziz\""
      ]
    },
    {
      "cell_type": "code",
      "metadata": {
        "colab": {
          "base_uri": "https://localhost:8080/"
        },
        "id": "Gz-iewfEO9tW",
        "outputId": "80914a55-058e-467f-91cc-89c074f13670"
      },
      "source": [
        "a = 10\r\n",
        "b = 19\r\n",
        "\r\n",
        "if a > b:\r\n",
        "    print(\"Hamza\")\r\n",
        "else:\r\n",
        "    print(\"Aziz\")"
      ],
      "execution_count": 16,
      "outputs": [
        {
          "output_type": "stream",
          "text": [
            "Aziz\n"
          ],
          "name": "stdout"
        }
      ]
    },
    {
      "cell_type": "markdown",
      "metadata": {
        "id": "xQa18-fgPUVC"
      },
      "source": [
        "I need to print \"Hamza\" if a is greater than b; if a equals b then print \"AH\"; otherwise \"Aziz\""
      ]
    },
    {
      "cell_type": "code",
      "metadata": {
        "colab": {
          "base_uri": "https://localhost:8080/"
        },
        "id": "V85DPFdFPJ9Q",
        "outputId": "2a9ac3fe-a81c-4d9a-80ee-5263e78bf94f"
      },
      "source": [
        "a = 12\r\n",
        "b = 19\r\n",
        "\r\n",
        "if a > b:\r\n",
        "    print(\"Hamza\")\r\n",
        "elif a == b:\r\n",
        "    print(\"AH\")\r\n",
        "else:\r\n",
        "    print(\"Aziz\")"
      ],
      "execution_count": 17,
      "outputs": [
        {
          "output_type": "stream",
          "text": [
            "Aziz\n"
          ],
          "name": "stdout"
        }
      ]
    },
    {
      "cell_type": "markdown",
      "metadata": {
        "id": "1PYATg3ePlLN"
      },
      "source": [
        "print valid if a > b and b > c; otherwise invalid"
      ]
    },
    {
      "cell_type": "code",
      "metadata": {
        "colab": {
          "base_uri": "https://localhost:8080/"
        },
        "id": "WULPrpZkPh40",
        "outputId": "813ae641-5640-4d94-aa6b-0737fad7f8b1"
      },
      "source": [
        "a = 10\r\n",
        "b = 15\r\n",
        "c = 20\r\n",
        "\r\n",
        "if a > b and b > c:\r\n",
        "    print(True)\r\n",
        "else:\r\n",
        "    print(False)"
      ],
      "execution_count": 18,
      "outputs": [
        {
          "output_type": "stream",
          "text": [
            "False\n"
          ],
          "name": "stdout"
        }
      ]
    },
    {
      "cell_type": "code",
      "metadata": {
        "colab": {
          "base_uri": "https://localhost:8080/"
        },
        "id": "VZ_YH5-cPkPE",
        "outputId": "2408dafb-0d0c-45e5-cf4e-5bc27a579425"
      },
      "source": [
        "if a > b > c:\r\n",
        "    print(True)\r\n",
        "else:\r\n",
        "    print(False)"
      ],
      "execution_count": 19,
      "outputs": [
        {
          "output_type": "stream",
          "text": [
            "False\n"
          ],
          "name": "stdout"
        }
      ]
    },
    {
      "cell_type": "markdown",
      "metadata": {
        "id": "ERUgXO5jP1m4"
      },
      "source": [
        "print true if a > 80 and b < 80; otherwise False"
      ]
    },
    {
      "cell_type": "code",
      "metadata": {
        "colab": {
          "base_uri": "https://localhost:8080/"
        },
        "id": "EfVjNCugPv5y",
        "outputId": "9959c489-6931-4140-fc43-777a9dc3023a"
      },
      "source": [
        "if a > 80 and b < 80:\r\n",
        "    print(True)\r\n",
        "else:\r\n",
        "    print(False)"
      ],
      "execution_count": 20,
      "outputs": [
        {
          "output_type": "stream",
          "text": [
            "False\n"
          ],
          "name": "stdout"
        }
      ]
    },
    {
      "cell_type": "code",
      "metadata": {
        "colab": {
          "base_uri": "https://localhost:8080/"
        },
        "id": "BrY6odQ5QIR5",
        "outputId": "e21bf475-0c53-41af-ea32-bcbc93ac7cef"
      },
      "source": [
        "if a > 80 < b:\r\n",
        "    print(True)\r\n",
        "else:\r\n",
        "    print(False)"
      ],
      "execution_count": 21,
      "outputs": [
        {
          "output_type": "stream",
          "text": [
            "False\n"
          ],
          "name": "stdout"
        }
      ]
    },
    {
      "cell_type": "markdown",
      "metadata": {
        "id": "o4K5gnRzQNtw"
      },
      "source": [
        "There are 2 variables a and b, a = 20, b = 30, Pirnt \"Yes\" if a < b. Print \"a is even\" if a < b and a is even. No alternate case."
      ]
    },
    {
      "cell_type": "code",
      "metadata": {
        "colab": {
          "base_uri": "https://localhost:8080/"
        },
        "id": "OoEPX1duQKHk",
        "outputId": "99e108a4-a22d-42ea-85ae-a1d7c69f11f8"
      },
      "source": [
        "a = 19\r\n",
        "b = 30\r\n",
        "\r\n",
        "if a < b:\r\n",
        "    print(\"Yes, a < b\")\r\n",
        "    if a % 2 == 0:\r\n",
        "        print(\"a is even\")"
      ],
      "execution_count": 22,
      "outputs": [
        {
          "output_type": "stream",
          "text": [
            "Yes, a < b\n"
          ],
          "name": "stdout"
        }
      ]
    },
    {
      "cell_type": "code",
      "metadata": {
        "id": "-XSw1unbQReX"
      },
      "source": [
        "nat = 'PK'\r\n",
        "edu = 18\r\n",
        "age = 25\r\n",
        "isMale = True\r\n"
      ],
      "execution_count": 23,
      "outputs": []
    },
    {
      "cell_type": "markdown",
      "metadata": {
        "id": "rkQRJaysQXai"
      },
      "source": [
        "How do we get input in Python"
      ]
    },
    {
      "cell_type": "code",
      "metadata": {
        "colab": {
          "base_uri": "https://localhost:8080/"
        },
        "id": "vfL3TkhyQUVQ",
        "outputId": "702cde32-a46e-442d-ed3b-53eaf9ba5845"
      },
      "source": [
        "nat = input(\"Enter the nationality: \").upper()\r\n",
        "edu = int(input(\"Enter eduation (in number of years) :\"))\r\n",
        "age = int(input(\"Eneter age (in numbers): \"))\r\n",
        "isMale = bool(input(\"Enter True if male otherwise False\"))"
      ],
      "execution_count": 24,
      "outputs": [
        {
          "output_type": "stream",
          "text": [
            "Enter the nationality: pk\n",
            "Enter eduation (in number of years) :15\n",
            "Eneter age (in numbers): 25\n",
            "Enter True if male otherwise FalseTrue\n"
          ],
          "name": "stdout"
        }
      ]
    },
    {
      "cell_type": "code",
      "metadata": {
        "colab": {
          "base_uri": "https://localhost:8080/"
        },
        "id": "614XueAOQcLA",
        "outputId": "6a54aeb3-63c6-4007-d039-dda586db7289"
      },
      "source": [
        "# type(nat)\r\n",
        "print(nat, type(nat))\r\n",
        "print(edu, type(edu))\r\n",
        "print(isMale, type(isMale))"
      ],
      "execution_count": 25,
      "outputs": [
        {
          "output_type": "stream",
          "text": [
            "PK <class 'str'>\n",
            "15 <class 'int'>\n",
            "True <class 'bool'>\n"
          ],
          "name": "stdout"
        }
      ]
    },
    {
      "cell_type": "markdown",
      "metadata": {
        "id": "i1MKP5G4Qtjr"
      },
      "source": [
        "#**Task**"
      ]
    },
    {
      "cell_type": "code",
      "metadata": {
        "colab": {
          "base_uri": "https://localhost:8080/"
        },
        "id": "cAWL258eQpJS",
        "outputId": "fe126ba8-329b-4460-a20d-34eb30c3cc17"
      },
      "source": [
        "if nat == 'PK' or nat == 'AJK':\r\n",
        "    if isMale:\r\n",
        "        if edu == 12:\r\n",
        "            if 18 <= age <= 20: # age >= 18 and age <= 20\r\n",
        "                print(\"Yes\")\r\n",
        "        elif edu == 14:\r\n",
        "            if 20 <= age <= 24: # age >= 20 and age <= 24\r\n",
        "                print(\"Yes\")\r\n",
        "        elif edu == 16:\r\n",
        "            if 22 <= age <= 24 : # age >= 22 and age <= 24\r\n",
        "                print(\"Yes\")\r\n",
        "        else:\r\n",
        "            print(\"No\")\r\n",
        "    else:\r\n",
        "        if edu == 12:\r\n",
        "            if 18 <= age <= 20:\r\n",
        "                print(\"Yes\")\r\n",
        "        elif edu == 14:\r\n",
        "            if 20 <= age <= 22:\r\n",
        "                print(\"Yes\")\r\n",
        "        else:\r\n",
        "            print(\"No\")\r\n",
        "else:\r\n",
        "    print(\"No\")"
      ],
      "execution_count": 35,
      "outputs": [
        {
          "output_type": "stream",
          "text": [
            "No\n"
          ],
          "name": "stdout"
        }
      ]
    },
    {
      "cell_type": "markdown",
      "metadata": {
        "id": "xuKt2D4IRFYi"
      },
      "source": [
        "#**Loop**\r\n",
        "\r\n",
        "programming - for (int i = 0; i< 10.....) - foreach - while - do while\r\n",
        "\r\n",
        "Python: - for (for each) - while "
      ]
    },
    {
      "cell_type": "code",
      "metadata": {
        "colab": {
          "base_uri": "https://localhost:8080/"
        },
        "id": "wPRYiGE-Qxt2",
        "outputId": "c830452c-5a77-4b1b-8488-b41430b2b812"
      },
      "source": [
        "colors = ['red', 'blue', 'green', 'black']\r\n",
        "#colors = []\r\n",
        "print(colors)\r\n",
        "print(type(colors))"
      ],
      "execution_count": 27,
      "outputs": [
        {
          "output_type": "stream",
          "text": [
            "['red', 'blue', 'green', 'black']\n",
            "<class 'list'>\n"
          ],
          "name": "stdout"
        }
      ]
    },
    {
      "cell_type": "code",
      "metadata": {
        "colab": {
          "base_uri": "https://localhost:8080/"
        },
        "id": "mDKYWdonRKHM",
        "outputId": "726881ba-3a3e-4b66-c098-b1d740e038d7"
      },
      "source": [
        "for i in colors:\r\n",
        "    print(i)\r\n",
        "    print(i.upper())\r\n",
        "\r\n",
        "print(\"the end\")"
      ],
      "execution_count": 28,
      "outputs": [
        {
          "output_type": "stream",
          "text": [
            "red\n",
            "RED\n",
            "blue\n",
            "BLUE\n",
            "green\n",
            "GREEN\n",
            "black\n",
            "BLACK\n",
            "the end\n"
          ],
          "name": "stdout"
        }
      ]
    },
    {
      "cell_type": "code",
      "metadata": {
        "colab": {
          "base_uri": "https://localhost:8080/"
        },
        "id": "fjys-JeURMXl",
        "outputId": "b023b31c-0820-447f-f301-4912382b03e0"
      },
      "source": [
        "for i in range(0,10):\r\n",
        "    print(i)"
      ],
      "execution_count": 29,
      "outputs": [
        {
          "output_type": "stream",
          "text": [
            "0\n",
            "1\n",
            "2\n",
            "3\n",
            "4\n",
            "5\n",
            "6\n",
            "7\n",
            "8\n",
            "9\n"
          ],
          "name": "stdout"
        }
      ]
    },
    {
      "cell_type": "code",
      "metadata": {
        "colab": {
          "base_uri": "https://localhost:8080/"
        },
        "id": "UGsyJiNgRPd9",
        "outputId": "1c0ebae7-dbfb-408a-e1a4-fe6cc041a92b"
      },
      "source": [
        "print(list(range(0,10)))"
      ],
      "execution_count": 30,
      "outputs": [
        {
          "output_type": "stream",
          "text": [
            "[0, 1, 2, 3, 4, 5, 6, 7, 8, 9]\n"
          ],
          "name": "stdout"
        }
      ]
    },
    {
      "cell_type": "code",
      "metadata": {
        "colab": {
          "base_uri": "https://localhost:8080/"
        },
        "id": "VRNirrhXRRQy",
        "outputId": "ef6d8f39-217f-4b4e-a07f-069c45e66367"
      },
      "source": [
        "a = 10\r\n",
        "b = 20\r\n",
        "\r\n",
        "while a < b:\r\n",
        "    print(\"I am in\")\r\n",
        "    a = a + 1"
      ],
      "execution_count": 31,
      "outputs": [
        {
          "output_type": "stream",
          "text": [
            "I am in\n",
            "I am in\n",
            "I am in\n",
            "I am in\n",
            "I am in\n",
            "I am in\n",
            "I am in\n",
            "I am in\n",
            "I am in\n",
            "I am in\n"
          ],
          "name": "stdout"
        }
      ]
    },
    {
      "cell_type": "code",
      "metadata": {
        "colab": {
          "base_uri": "https://localhost:8080/"
        },
        "id": "db6fbqL0RTU7",
        "outputId": "534e4545-3817-451c-c870-027b367a5b17"
      },
      "source": [
        "print(a)"
      ],
      "execution_count": 32,
      "outputs": [
        {
          "output_type": "stream",
          "text": [
            "20\n"
          ],
          "name": "stdout"
        }
      ]
    },
    {
      "cell_type": "code",
      "metadata": {
        "colab": {
          "base_uri": "https://localhost:8080/"
        },
        "id": "H0ldCmBYRXpB",
        "outputId": "c2546e45-3a76-4840-a61e-ffc607b86e46"
      },
      "source": [
        "for i in range(1,20,2):\r\n",
        "    print(i)"
      ],
      "execution_count": 33,
      "outputs": [
        {
          "output_type": "stream",
          "text": [
            "1\n",
            "3\n",
            "5\n",
            "7\n",
            "9\n",
            "11\n",
            "13\n",
            "15\n",
            "17\n",
            "19\n"
          ],
          "name": "stdout"
        }
      ]
    },
    {
      "cell_type": "code",
      "metadata": {
        "colab": {
          "base_uri": "https://localhost:8080/"
        },
        "id": "Y5t7J6i8RZNF",
        "outputId": "3fd050bb-bc41-49bd-b4ff-69d68797ff09"
      },
      "source": [
        "# reversing\r\n",
        "for i in range(20,1,-1):\r\n",
        "    print(i)"
      ],
      "execution_count": 34,
      "outputs": [
        {
          "output_type": "stream",
          "text": [
            "20\n",
            "19\n",
            "18\n",
            "17\n",
            "16\n",
            "15\n",
            "14\n",
            "13\n",
            "12\n",
            "11\n",
            "10\n",
            "9\n",
            "8\n",
            "7\n",
            "6\n",
            "5\n",
            "4\n",
            "3\n",
            "2\n"
          ],
          "name": "stdout"
        }
      ]
    },
    {
      "cell_type": "code",
      "metadata": {
        "id": "vpwMfV0sRbZr"
      },
      "source": [
        ""
      ],
      "execution_count": 34,
      "outputs": []
    }
  ]
}